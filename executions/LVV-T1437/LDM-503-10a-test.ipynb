{
 "cells": [
  {
   "cell_type": "markdown",
   "metadata": {},
   "source": [
    "# Test notebook for LDM-503-10a milestone, test cases LVV-T1436 and LVV-T1437\n",
    "\n",
    "This notebook performs a basic test of the ability to perform an LSST Science Platform API Aspect TAP catalog access from a user's Python process, and is set up to compare the results with the equivalent access performed via the Portal Aspect UI.\n",
    "\n",
    "This test is in service of verifying the LDM-503-10a milestone regarding cross-Aspect authentication and authorization and its integration with TAP queries.\n",
    "\n",
    "This notebook is intended to be executed both inside and outside the Notebook Aspect, in order to test the two ways of using the API Aspect service - with a pre-populated access token from the Notebook Aspect login process, or with an explicitly obtained token from the external get-a-token endpoint of the LSP."
   ]
  },
  {
   "cell_type": "markdown",
   "metadata": {},
   "source": [
    "## Test configuration\n",
    "\n",
    "### User inputs required for the test"
   ]
  },
  {
   "cell_type": "markdown",
   "metadata": {},
   "source": [
    "If this test is *being run outside of the Notebook Aspect* (e.g., on a home-institution system) you **MUST** have saved your API Aspect access token in the ACCESS_TOKEN environment variable before launching your local Jupyter session.  Because many ways of doing this can leave a record of your token behind, e.g., in a `.history` file, it is **strongly recommended** that you *revoke the access token* once all the LDM-503-10a tests are complete, unless you are sure you are using a secure method.  (`\"export ACCESS_TOKEN; read -s ACCESS_TOKEN\"` is a good start.)"
   ]
  },
  {
   "cell_type": "markdown",
   "metadata": {},
   "source": [
    "URL for the TAP job for the main query executed in the Portal Aspect, obtained from clicking the \"(i)\" icon in the Portal table viewer toolbar.\n",
    "If this is left as the empty string, the part of the test that verifies the ability to transfer a query URL from the Portal to another Aspect will be omitted."
   ]
  },
  {
   "cell_type": "code",
   "execution_count": 1,
   "metadata": {},
   "outputs": [],
   "source": [
    "portal_job_url = 'https://lsst-lsp-stable.ncsa.illinois.edu/api/tap/async/gbupxri6cznn4jt7'"
   ]
  },
  {
   "cell_type": "markdown",
   "metadata": {},
   "source": [
    "It is assumed that when if you are running outside the Notebook Aspect, you will be accessing the `lsst-lsp-stable` instance of the TAP service.  This is configured here.  It is **NOT** necessary to clear this when you are running inside the Notebook Aspect."
   ]
  },
  {
   "cell_type": "code",
   "execution_count": 2,
   "metadata": {},
   "outputs": [],
   "source": [
    "off_LSP_TAP = 'https://lsst-lsp-stable.ncsa.illinois.edu/api/tap'"
   ]
  },
  {
   "cell_type": "markdown",
   "metadata": {},
   "source": [
    "(If you are running _inside_ the Notebook Aspect, the code further below will use the pre-configured default TAP service for the LSP instance in which you are working, and will ignore the line above.)"
   ]
  },
  {
   "cell_type": "markdown",
   "metadata": {},
   "source": [
    "Filename of the output expected from the Portal Aspect part of the LVV-C85 test cycle, LVV-T1334.  It is assumed to be placed in the working directory of your JupyterLab session."
   ]
  },
  {
   "cell_type": "code",
   "execution_count": 3,
   "metadata": {},
   "outputs": [],
   "source": [
    "portal_file = 'LVV-T1334-output.csv'"
   ]
  },
  {
   "cell_type": "markdown",
   "metadata": {},
   "source": [
    "### Define the query parameters"
   ]
  },
  {
   "cell_type": "code",
   "execution_count": 4,
   "metadata": {},
   "outputs": [],
   "source": [
    "# This is the AllWISE Source Catalog (the equivalent of LSST `Object`)\n",
    "allwise_table = 'wise_00.allwise_p3as_psd'\n",
    "# The equatorial coordinate variables are named \"ra\" and \"decl\" in the LSST PDAC copy.\n",
    "(allwise_ra, allwise_dec) = ('ra', 'decl')"
   ]
  },
  {
   "cell_type": "code",
   "execution_count": 5,
   "metadata": {},
   "outputs": [],
   "source": [
    "# Cone search parameters; must match LVV-T1334 narrative.\n",
    "center = ( 2, 0 )  # RA, dec point, in degrees\n",
    "radius = 0.5       # radius of cone in degrees"
   ]
  },
  {
   "cell_type": "code",
   "execution_count": 6,
   "metadata": {},
   "outputs": [],
   "source": [
    "# Upper limit on query size\n",
    "maxrows = 50000    # actual query should return more like 12,000 rows"
   ]
  },
  {
   "cell_type": "markdown",
   "metadata": {},
   "source": [
    "---"
   ]
  },
  {
   "cell_type": "markdown",
   "metadata": {},
   "source": [
    "## Preset test-passed statuses"
   ]
  },
  {
   "cell_type": "code",
   "execution_count": 7,
   "metadata": {},
   "outputs": [],
   "source": [
    "# Was the query from this notebook executed successfully?\n",
    "test_performed_query = False\n",
    "\n",
    "# Was the comparison with the output from the Portal test executed successfully?\n",
    "test_compared_portal = False if portal_file != None and portal_file != ''       else None\n",
    "\n",
    "# Was the comparison with data from the Portal's TAP job endpoint executed successfully?\n",
    "test_compared_job = False    if portal_job_url != None and portal_job_url != '' else None"
   ]
  },
  {
   "cell_type": "markdown",
   "metadata": {},
   "source": [
    "## Obtain the PyVO TAPQuery object for executing the query"
   ]
  },
  {
   "cell_type": "markdown",
   "metadata": {},
   "source": [
    "### Set things up correctly for running either internally or externally."
   ]
  },
  {
   "cell_type": "code",
   "execution_count": 8,
   "metadata": {},
   "outputs": [],
   "source": [
    "import os"
   ]
  },
  {
   "cell_type": "code",
   "execution_count": 9,
   "metadata": {},
   "outputs": [],
   "source": [
    "try:\n",
    "    ext_tap = os.environ['EXTERNAL_TAP_URL']\n",
    "except KeyError:\n",
    "    ext_tap = ''\n",
    "\n",
    "try:\n",
    "    ext_inst = os.environ['EXTERNAL_INSTANCE_URL']\n",
    "except KeyError:\n",
    "    ext_inst = ''"
   ]
  },
  {
   "cell_type": "code",
   "execution_count": 10,
   "metadata": {},
   "outputs": [
    {
     "data": {
      "text/plain": [
       "('', '')"
      ]
     },
     "execution_count": 10,
     "metadata": {},
     "output_type": "execute_result"
    }
   ],
   "source": [
    "( ext_tap, ext_inst )"
   ]
  },
  {
   "cell_type": "code",
   "execution_count": 11,
   "metadata": {},
   "outputs": [],
   "source": [
    "if ext_tap == '' and ext_inst == '':\n",
    "    # We must be running outside the Notebook Aspect.  Push the pre-configured external\n",
    "    # TAP access URL into the environment so that the PyVO-helper code will pick it up.\n",
    "    os.environ['EXTERNAL_TAP_URL'] = off_LSP_TAP"
   ]
  },
  {
   "cell_type": "markdown",
   "metadata": {},
   "source": [
    "### Get the \"helper utility\" that populates the query service with authorization data."
   ]
  },
  {
   "cell_type": "code",
   "execution_count": 12,
   "metadata": {},
   "outputs": [],
   "source": [
    "from astropy.table import Table"
   ]
  },
  {
   "cell_type": "code",
   "execution_count": 13,
   "metadata": {},
   "outputs": [],
   "source": [
    "from jupyterlabutils.notebook import get_catalog, retrieve_query"
   ]
  },
  {
   "cell_type": "code",
   "execution_count": 14,
   "metadata": {},
   "outputs": [],
   "source": [
    "service = get_catalog()"
   ]
  },
  {
   "cell_type": "markdown",
   "metadata": {},
   "source": [
    "### Construct the query"
   ]
  },
  {
   "cell_type": "code",
   "execution_count": 15,
   "metadata": {},
   "outputs": [],
   "source": [
    "adql_query = \"SELECT ra, decl, cntr, source_id, coadd_id, w1mpro, w2mpro, w3mpro, w4mpro FROM \" + allwise_table + \\\n",
    "    \" WHERE CONTAINS(POINT('ICRS',\" + allwise_ra + \",\" + allwise_dec + \"),\" + \\\n",
    "                    f\"CIRCLE('ICRS', {center[0]}, {center[1]}, {radius} ))=1\""
   ]
  },
  {
   "cell_type": "code",
   "execution_count": 16,
   "metadata": {},
   "outputs": [
    {
     "data": {
      "text/plain": [
       "\"SELECT ra, decl, cntr, source_id, coadd_id, w1mpro, w2mpro, w3mpro, w4mpro FROM wise_00.allwise_p3as_psd WHERE CONTAINS(POINT('ICRS',ra,decl),CIRCLE('ICRS', 2, 0, 0.5 ))=1\""
      ]
     },
     "execution_count": 16,
     "metadata": {},
     "output_type": "execute_result"
    }
   ],
   "source": [
    "adql_query"
   ]
  },
  {
   "cell_type": "code",
   "execution_count": 17,
   "metadata": {},
   "outputs": [],
   "source": [
    "results = service.search(adql_query)"
   ]
  },
  {
   "cell_type": "markdown",
   "metadata": {},
   "source": [
    "### Examine the results"
   ]
  },
  {
   "cell_type": "code",
   "execution_count": 18,
   "metadata": {},
   "outputs": [
    {
     "data": {
      "text/plain": [
       "12717"
      ]
     },
     "execution_count": 18,
     "metadata": {},
     "output_type": "execute_result"
    }
   ],
   "source": [
    "query_table = results.to_table()\n",
    "query_rows = len(query_table)\n",
    "query_rows"
   ]
  },
  {
   "cell_type": "markdown",
   "metadata": {},
   "source": [
    "Show that the rows refer to unique objects"
   ]
  },
  {
   "cell_type": "code",
   "execution_count": 19,
   "metadata": {},
   "outputs": [
    {
     "data": {
      "text/plain": [
       "True"
      ]
     },
     "execution_count": 19,
     "metadata": {},
     "output_type": "execute_result"
    }
   ],
   "source": [
    "query_id_set = set(query_table['cntr'])\n",
    "query_key_count = len(query_id_set)\n",
    "query_unique_keys = ( query_key_count == query_rows )\n",
    "query_unique_keys"
   ]
  },
  {
   "cell_type": "markdown",
   "metadata": {},
   "source": [
    "Roughly verify the cone search did what it was supposed to."
   ]
  },
  {
   "cell_type": "code",
   "execution_count": 20,
   "metadata": {},
   "outputs": [],
   "source": [
    "from numpy import hypot"
   ]
  },
  {
   "cell_type": "code",
   "execution_count": 21,
   "metadata": {},
   "outputs": [],
   "source": [
    "raoff = query_table[allwise_ra]-center[0]\n",
    "decoff = query_table[allwise_dec]-center[1]\n",
    "radoff = hypot(raoff,decoff)"
   ]
  },
  {
   "cell_type": "code",
   "execution_count": 22,
   "metadata": {},
   "outputs": [
    {
     "data": {
      "text/plain": [
       "(-0.4993004999999999,\n",
       " 0.4997617000000001,\n",
       " -0.4994012,\n",
       " 0.4980328,\n",
       " 0.0050964593454670285,\n",
       " 0.49999259862406964)"
      ]
     },
     "execution_count": 22,
     "metadata": {},
     "output_type": "execute_result"
    }
   ],
   "source": [
    "( min(raoff), max(raoff), min(decoff), max(decoff), min(radoff), max(radoff) )"
   ]
  },
  {
   "cell_type": "code",
   "execution_count": 23,
   "metadata": {},
   "outputs": [
    {
     "data": {
      "text/plain": [
       "True"
      ]
     },
     "execution_count": 23,
     "metadata": {},
     "output_type": "execute_result"
    }
   ],
   "source": [
    "delta = 0.01\n",
    "test_query_bounds = ( 10000 < query_rows < 15000 ) and \\\n",
    "    ( -radius         <= min(raoff)  <= -radius + delta ) and \\\n",
    "    (  radius - delta <= max(raoff)  <= radius ) and \\\n",
    "    ( -radius         <= min(decoff) <= -radius + delta ) and \\\n",
    "    (  radius - delta <= max(decoff) <= radius ) and \\\n",
    "    (  0              <= min(radoff) <= delta ) and \\\n",
    "    (  radius - delta <= max(radoff) <= radius )\n",
    "test_query_bounds"
   ]
  },
  {
   "cell_type": "code",
   "execution_count": 24,
   "metadata": {},
   "outputs": [
    {
     "data": {
      "text/plain": [
       "True"
      ]
     },
     "execution_count": 24,
     "metadata": {},
     "output_type": "execute_result"
    }
   ],
   "source": [
    "test_performed_query = ( query_unique_keys and test_query_bounds )\n",
    "test_performed_query"
   ]
  },
  {
   "cell_type": "markdown",
   "metadata": {},
   "source": [
    "Add an index to the result to facilitate analysis"
   ]
  },
  {
   "cell_type": "code",
   "execution_count": 25,
   "metadata": {},
   "outputs": [],
   "source": [
    "query_table.add_index('cntr')"
   ]
  },
  {
   "cell_type": "markdown",
   "metadata": {},
   "source": [
    "## Define a simple table comparison function"
   ]
  },
  {
   "cell_type": "code",
   "execution_count": 26,
   "metadata": {},
   "outputs": [],
   "source": [
    "def compare_tables( ta, tb ):\n",
    "    # Determine whether the two tables have the same keys:\n",
    "    ta_id_set = set(ta['cntr'])\n",
    "    tb_id_set = set(tb['cntr'])\n",
    "    same_keys = (ta_id_set == tb_id_set)\n",
    "    same_values = False\n",
    "    if same_keys:\n",
    "        # Requires indexes to have been set up on the two tables:\n",
    "        diff_rows = [(cntr,\n",
    "                      abs(ta.loc[cntr]['ra']     - tb.loc[cntr]['ra']),\n",
    "                      abs(ta.loc[cntr]['decl']   - tb.loc[cntr]['decl']),\n",
    "                      abs(ta.loc[cntr]['w1mpro'] - tb.loc[cntr]['w1mpro'])) \n",
    "                     for cntr in query_id_set]\n",
    "        deviation_max = max([row[1] for row in diff_rows]) + \\\n",
    "                        max([row[2] for row in diff_rows]) + \\\n",
    "                        max([row[3] for row in diff_rows])\n",
    "        same_values = ( deviation_max == 0 )\n",
    "    return ( same_keys, same_values )"
   ]
  },
  {
   "cell_type": "markdown",
   "metadata": {},
   "source": [
    "## Compare the query results with those obtained from the Portal Aspect UI"
   ]
  },
  {
   "cell_type": "markdown",
   "metadata": {},
   "source": [
    "This step tests that the Portal query can be reproduced by the equivalent query through the Python interface.  This is in a way obvious just from the design, since both queries go through the same TAP service - and because the ADQL from the Portal query is available for inspection.  However, it does follow two somewhat different paths in detail, and tests some issues associated with the conversions between text and numeric forms of the query results."
   ]
  },
  {
   "cell_type": "code",
   "execution_count": 27,
   "metadata": {},
   "outputs": [
    {
     "name": "stdout",
     "output_type": "stream",
     "text": [
      "The table saved in the Portal has 12717 rows.\n",
      "Results from comparison with live query: (True, True)\n"
     ]
    }
   ],
   "source": [
    "if portal_file:\n",
    "    portal_table = Table.read(portal_file, format='csv')\n",
    "    print( 'The table saved in the Portal has', len(portal_table), 'rows.' )\n",
    "    # Add an index to the result to facilitate analysis\n",
    "    portal_table.add_index('cntr')\n",
    "    # Compare the tables\n",
    "    portal_same = compare_tables(portal_table, query_table)\n",
    "    print( 'Results from comparison with live query:', portal_same )\n",
    "    test_compared_portal = portal_same[0] and portal_same[1]"
   ]
  },
  {
   "cell_type": "markdown",
   "metadata": {},
   "source": [
    "## Compare the query results with those obtained from the TAP job URL for the Portal Aspect query"
   ]
  },
  {
   "cell_type": "markdown",
   "metadata": {},
   "source": [
    "This step verifies that a query performed in the Portal Aspect can be accessed directly from the Notebook Aspect, or externally through the API Aspect, simply by transferring a URL reference."
   ]
  },
  {
   "cell_type": "code",
   "execution_count": 28,
   "metadata": {},
   "outputs": [
    {
     "name": "stdout",
     "output_type": "stream",
     "text": [
      "The table retrieved from the TAP job URL from the Portal has 12717 rows.\n",
      "Results from comparison with live query: (True, True)\n"
     ]
    }
   ],
   "source": [
    "if portal_job_url:\n",
    "    portal_job = retrieve_query( portal_job_url )\n",
    "    portal_job_results = portal_job.fetch_result()\n",
    "    portal_job_table = portal_job_results.to_table()\n",
    "    print( 'The table retrieved from the TAP job URL from the Portal has', len(portal_job_table), 'rows.' )\n",
    "    # Add an index to the result to facilitate analysis\n",
    "    portal_job_table.add_index('cntr')\n",
    "    # Compare the tables\n",
    "    portal_job_same = compare_tables(portal_job_table, query_table)\n",
    "    print( 'Results from comparison with live query:', portal_job_same )\n",
    "    test_compared_job = portal_job_same[0] and portal_job_same[1]"
   ]
  },
  {
   "cell_type": "markdown",
   "metadata": {},
   "source": [
    "## Report results"
   ]
  },
  {
   "cell_type": "code",
   "execution_count": 29,
   "metadata": {},
   "outputs": [
    {
     "name": "stdout",
     "output_type": "stream",
     "text": [
      "Successfully completed query from notebook: True\n",
      "Successful comparison to Portal query output: True\n",
      "Successful comparison to TAP job from Portal query: True\n"
     ]
    }
   ],
   "source": [
    "print( 'Successfully completed query from notebook:', test_performed_query )\n",
    "print( 'Successful comparison to Portal query output:', test_compared_portal )\n",
    "print( 'Successful comparison to TAP job from Portal query:', test_compared_job )"
   ]
  }
 ],
 "metadata": {
  "kernelspec": {
   "display_name": "Python 3",
   "language": "python",
   "name": "python3"
  },
  "language_info": {
   "codemirror_mode": {
    "name": "ipython",
    "version": 3
   },
   "file_extension": ".py",
   "mimetype": "text/x-python",
   "name": "python",
   "nbconvert_exporter": "python",
   "pygments_lexer": "ipython3",
   "version": "3.7.5"
  }
 },
 "nbformat": 4,
 "nbformat_minor": 4
}
